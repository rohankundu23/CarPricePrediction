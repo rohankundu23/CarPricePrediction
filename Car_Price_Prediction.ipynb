{
  "nbformat": 4,
  "nbformat_minor": 0,
  "metadata": {
    "colab": {
      "name": "Car Price Prediction.ipynb",
      "provenance": [],
      "collapsed_sections": [],
      "toc_visible": true,
      "include_colab_link": true
    },
    "kernelspec": {
      "name": "python3",
      "display_name": "Python 3"
    }
  },
  "cells": [
    {
      "cell_type": "markdown",
      "metadata": {
        "id": "view-in-github",
        "colab_type": "text"
      },
      "source": [
        "<a href=\"https://colab.research.google.com/github/rohankundu23/CarPricePrediction/blob/master/Car_Price_Prediction.ipynb\" target=\"_parent\"><img src=\"https://colab.research.google.com/assets/colab-badge.svg\" alt=\"Open In Colab\"/></a>"
      ]
    },
    {
      "cell_type": "markdown",
      "metadata": {
        "id": "llhRjofPUKQP",
        "colab_type": "text"
      },
      "source": [
        "### 1. Basic Steps"
      ]
    },
    {
      "cell_type": "markdown",
      "metadata": {
        "id": "QVQRe2BMDCmC",
        "colab_type": "text"
      },
      "source": [
        "#### 1.1 Importing the necessary libraries and the dataset"
      ]
    },
    {
      "cell_type": "code",
      "metadata": {
        "id": "0FywwQ7jBfyU",
        "colab_type": "code",
        "colab": {
          "base_uri": "https://localhost:8080/",
          "height": 70
        },
        "outputId": "04aade41-59bf-4347-a763-734f18a0f97b"
      },
      "source": [
        "import pandas as pd\n",
        "import numpy as np\n",
        "\n",
        "import seaborn as sns\n",
        "import matplotlib.pyplot as plt\n",
        "%matplotlib inline"
      ],
      "execution_count": 1,
      "outputs": [
        {
          "output_type": "stream",
          "text": [
            "/usr/local/lib/python3.6/dist-packages/statsmodels/tools/_testing.py:19: FutureWarning: pandas.util.testing is deprecated. Use the functions in the public API at pandas.testing instead.\n",
            "  import pandas.util.testing as tm\n"
          ],
          "name": "stderr"
        }
      ]
    },
    {
      "cell_type": "code",
      "metadata": {
        "id": "ln7QCg71DnvF",
        "colab_type": "code",
        "colab": {
          "resources": {
            "http://localhost:8080/nbextensions/google.colab/files.js": {
              "data": "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",
              "ok": true,
              "headers": [
                [
                  "content-type",
                  "application/javascript"
                ]
              ],
              "status": 200,
              "status_text": ""
            }
          },
          "base_uri": "https://localhost:8080/",
          "height": 39
        },
        "outputId": "c42efa81-c1d6-40a3-ccef-5423a5eb6928"
      },
      "source": [
        "from google.colab import files\n",
        "uploaded = files.upload()"
      ],
      "execution_count": null,
      "outputs": [
        {
          "output_type": "display_data",
          "data": {
            "text/html": [
              "\n",
              "     <input type=\"file\" id=\"files-040978e9-3fba-49af-8b57-820864da3703\" name=\"files[]\" multiple disabled\n",
              "        style=\"border:none\" />\n",
              "     <output id=\"result-040978e9-3fba-49af-8b57-820864da3703\">\n",
              "      Upload widget is only available when the cell has been executed in the\n",
              "      current browser session. Please rerun this cell to enable.\n",
              "      </output>\n",
              "      <script src=\"/nbextensions/google.colab/files.js\"></script> "
            ],
            "text/plain": [
              "<IPython.core.display.HTML object>"
            ]
          },
          "metadata": {
            "tags": []
          }
        }
      ]
    },
    {
      "cell_type": "markdown",
      "metadata": {
        "id": "-feHJZTmDw1K",
        "colab_type": "text"
      },
      "source": [
        "#### 1.2 Loading the data in th dataframe"
      ]
    },
    {
      "cell_type": "code",
      "metadata": {
        "id": "Ru77vsJf46QN",
        "colab_type": "code",
        "colab": {}
      },
      "source": [
        "df = pd.read_csv(\"data.csv\")\n",
        "df.shape"
      ],
      "execution_count": null,
      "outputs": []
    },
    {
      "cell_type": "code",
      "metadata": {
        "id": "-_majuPR495X",
        "colab_type": "code",
        "colab": {}
      },
      "source": [
        "#To display first five rows of the dataset\n",
        "\n",
        "df.head"
      ],
      "execution_count": null,
      "outputs": []
    },
    {
      "cell_type": "code",
      "metadata": {
        "id": "fuRynw4W5Adq",
        "colab_type": "code",
        "colab": {}
      },
      "source": [
        "#To display the columns of the dataset\n",
        "\n",
        "df.columns"
      ],
      "execution_count": null,
      "outputs": []
    },
    {
      "cell_type": "markdown",
      "metadata": {
        "id": "CJE2Bj6gEX65",
        "colab_type": "text"
      },
      "source": [
        "#### 1.3 Statistical Summary and data type of the data"
      ]
    },
    {
      "cell_type": "code",
      "metadata": {
        "id": "YgUEEJ8R5vxd",
        "colab_type": "code",
        "colab": {}
      },
      "source": [
        "df.info()"
      ],
      "execution_count": null,
      "outputs": []
    },
    {
      "cell_type": "code",
      "metadata": {
        "id": "3Duo6lgj5yCy",
        "colab_type": "code",
        "colab": {}
      },
      "source": [
        "df.describe()"
      ],
      "execution_count": null,
      "outputs": []
    },
    {
      "cell_type": "code",
      "metadata": {
        "id": "AWCFLPfE6K1w",
        "colab_type": "code",
        "colab": {}
      },
      "source": [
        "df.describe(include='all')"
      ],
      "execution_count": null,
      "outputs": []
    },
    {
      "cell_type": "code",
      "metadata": {
        "id": "Pa-pxCqA6UAK",
        "colab_type": "code",
        "colab": {}
      },
      "source": [
        "# null values\n",
        "\n",
        "df.isnull().sum()"
      ],
      "execution_count": null,
      "outputs": []
    },
    {
      "cell_type": "code",
      "metadata": {
        "id": "bz_RndKH6n3R",
        "colab_type": "code",
        "colab": {}
      },
      "source": [
        "## target variable \n",
        "\n",
        "df['MSRP'].plot.hist()\n",
        "plt.xlabel('MSRP', fontsize=12)"
      ],
      "execution_count": null,
      "outputs": []
    },
    {
      "cell_type": "markdown",
      "metadata": {
        "id": "RYj9njqoErsz",
        "colab_type": "text"
      },
      "source": [
        "+ As the graph is right skewed graph, we will plot the graph without the outliers."
      ]
    },
    {
      "cell_type": "code",
      "metadata": {
        "id": "EX6Oh_xI7c1y",
        "colab_type": "code",
        "colab": {}
      },
      "source": [
        "# Plotting without the outliers\n",
        "\n",
        "(df['MSRP'].loc[df['MSRP']<4.223125e+04 ]).plot.hist()"
      ],
      "execution_count": null,
      "outputs": []
    },
    {
      "cell_type": "code",
      "metadata": {
        "id": "GiSQ3xTV8brc",
        "colab_type": "code",
        "colab": {}
      },
      "source": [
        "## Car year (Marketing)\n",
        "\n",
        "df['Year'].plot.hist()\n",
        "plt.xlabel('Car Year', fontsize=12)"
      ],
      "execution_count": null,
      "outputs": []
    },
    {
      "cell_type": "markdown",
      "metadata": {
        "id": "ohIDj_IZFCBA",
        "colab_type": "text"
      },
      "source": [
        "+ The graph is left skewed graph, therefore we will plot the graph without the outliers."
      ]
    },
    {
      "cell_type": "code",
      "metadata": {
        "id": "S1duzWUv-thP",
        "colab_type": "code",
        "colab": {}
      },
      "source": [
        "(df['Year'].loc[df['Year']<2015 ]).plot.hist()"
      ],
      "execution_count": null,
      "outputs": []
    },
    {
      "cell_type": "code",
      "metadata": {
        "id": "ujEX9x66_p-3",
        "colab_type": "code",
        "colab": {}
      },
      "source": [
        "## Popularity of the car\n",
        "\n",
        "df['Popularity'].plot.hist()\n",
        "plt.xlabel('Popularity of the Car', fontsize=12)"
      ],
      "execution_count": null,
      "outputs": []
    },
    {
      "cell_type": "markdown",
      "metadata": {
        "id": "xc_AhdiNIA2b",
        "colab_type": "text"
      },
      "source": [
        "### 2. Dropping irrelevant columns"
      ]
    },
    {
      "cell_type": "code",
      "metadata": {
        "id": "Q5-Wd95XG8_2",
        "colab_type": "code",
        "colab": {}
      },
      "source": [
        "df.isnull().sum()"
      ],
      "execution_count": null,
      "outputs": []
    },
    {
      "cell_type": "markdown",
      "metadata": {
        "id": "676fipb9Hff7",
        "colab_type": "text"
      },
      "source": [
        "+ Market Category has many null values, therefore we will drop this column, as it can manipulate our final result.\n",
        "+ Any other column will be dropped once we will manipulate the data."
      ]
    },
    {
      "cell_type": "code",
      "metadata": {
        "id": "5BAJt8D1AEe0",
        "colab_type": "code",
        "colab": {}
      },
      "source": [
        "# Dropping the column named Market Category\n",
        "\n",
        "df = df.drop(['Market Category'], axis=1)\n",
        "df.head(5)"
      ],
      "execution_count": null,
      "outputs": []
    },
    {
      "cell_type": "markdown",
      "metadata": {
        "id": "-7xh--PbIfDb",
        "colab_type": "text"
      },
      "source": [
        "### 3. Renaming the columns"
      ]
    },
    {
      "cell_type": "code",
      "metadata": {
        "id": "zDq1afUkGDzH",
        "colab_type": "code",
        "colab": {}
      },
      "source": [
        "df = df.rename(columns={\"Engine HP\": \"HP\", \"Engine Cylinders\": \"Cylinders\", \"Transmission Type\": \"Transmission\", \"Driven_Wheels\": \"Drive Mode\",\"highway MPG\": \"MPG-H\", \"city mpg\": \"MPG-C\", \"MSRP\": \"Price\" })\n",
        "df.head(5)"
      ],
      "execution_count": null,
      "outputs": []
    },
    {
      "cell_type": "markdown",
      "metadata": {
        "id": "hMTnLBShLjPW",
        "colab_type": "text"
      },
      "source": [
        "### 4. Data Manipulation"
      ]
    },
    {
      "cell_type": "markdown",
      "metadata": {
        "id": "FrdxzzHQMWEX",
        "colab_type": "text"
      },
      "source": [
        "##### 4.1 Dropping the duplicate rows"
      ]
    },
    {
      "cell_type": "code",
      "metadata": {
        "id": "O6IIhYNoI0YA",
        "colab_type": "code",
        "colab": {}
      },
      "source": [
        "duplicate_rows_df = df[df.duplicated()]\n",
        "print(\"number of duplicate rows: \", duplicate_rows_df.shape)"
      ],
      "execution_count": null,
      "outputs": []
    },
    {
      "cell_type": "code",
      "metadata": {
        "id": "ejmnkyfDMjge",
        "colab_type": "code",
        "colab": {}
      },
      "source": [
        "df = df.drop_duplicates()\n",
        "df.head(5)"
      ],
      "execution_count": null,
      "outputs": []
    },
    {
      "cell_type": "code",
      "metadata": {
        "id": "XVDPnMRLMqP1",
        "colab_type": "code",
        "colab": {}
      },
      "source": [
        "df.shape"
      ],
      "execution_count": null,
      "outputs": []
    },
    {
      "cell_type": "markdown",
      "metadata": {
        "id": "2Xt3Q5FJMxli",
        "colab_type": "text"
      },
      "source": [
        "##### 4.2 Missing or null values Manipulation"
      ]
    },
    {
      "cell_type": "code",
      "metadata": {
        "id": "AuBuDAISMrFR",
        "colab_type": "code",
        "colab": {}
      },
      "source": [
        "df.isnull().sum()"
      ],
      "execution_count": null,
      "outputs": []
    },
    {
      "cell_type": "code",
      "metadata": {
        "id": "xtr1fl-vM9k_",
        "colab_type": "code",
        "colab": {}
      },
      "source": [
        "temp = pd.DataFrame(index=df.columns)\n",
        "temp['data_type'] = df.dtypes\n",
        "temp['null_count'] = df.isnull().sum()\n",
        "temp['unique_count'] = df.nunique()\n",
        "temp"
      ],
      "execution_count": null,
      "outputs": []
    },
    {
      "cell_type": "code",
      "metadata": {
        "id": "z-exeMlsNFPj",
        "colab_type": "code",
        "colab": {}
      },
      "source": [
        "#for Cylinders\n",
        "\n",
        "df['Cylinders'].value_counts()"
      ],
      "execution_count": null,
      "outputs": []
    },
    {
      "cell_type": "code",
      "metadata": {
        "id": "Qz7D8KS3OE6v",
        "colab_type": "code",
        "colab": {}
      },
      "source": [
        "df['Cylinders'].mode()"
      ],
      "execution_count": null,
      "outputs": []
    },
    {
      "cell_type": "code",
      "metadata": {
        "id": "uHn46m2LNX6s",
        "colab_type": "code",
        "colab": {}
      },
      "source": [
        "# Replacing null values with the mode of Cylinders column\n",
        "\n",
        "df['Cylinders'].fillna(value = (df['Cylinders'].mode()[0]), inplace=True)"
      ],
      "execution_count": null,
      "outputs": []
    },
    {
      "cell_type": "code",
      "metadata": {
        "id": "lpd6NAQ4OtEv",
        "colab_type": "code",
        "colab": {}
      },
      "source": [
        "# for Number of doors\n",
        "\n",
        "df['Number of Doors'].value_counts()"
      ],
      "execution_count": null,
      "outputs": []
    },
    {
      "cell_type": "code",
      "metadata": {
        "id": "sYaKRR9PPEOT",
        "colab_type": "code",
        "colab": {}
      },
      "source": [
        "df['Number of Doors'].mode()"
      ],
      "execution_count": null,
      "outputs": []
    },
    {
      "cell_type": "code",
      "metadata": {
        "id": "239a8KocPJBT",
        "colab_type": "code",
        "colab": {}
      },
      "source": [
        "# Replacing null values with the mode of Number of Doors column\n",
        "\n",
        "df['Number of Doors'].fillna(value = (df['Number of Doors'].mode()[0]), inplace=True)\n",
        "df.isnull().sum()"
      ],
      "execution_count": null,
      "outputs": []
    },
    {
      "cell_type": "markdown",
      "metadata": {
        "id": "HawLpB03PZWL",
        "colab_type": "text"
      },
      "source": [
        "+ HP has 69 missing values and 356 unique values, therefore we will drop the rows with null values in this column."
      ]
    },
    {
      "cell_type": "code",
      "metadata": {
        "id": "_WctaNX_OLOV",
        "colab_type": "code",
        "colab": {}
      },
      "source": [
        "df = df.dropna()    # Dropping the missing values.\n",
        "df.isnull().sum()"
      ],
      "execution_count": null,
      "outputs": []
    },
    {
      "cell_type": "code",
      "metadata": {
        "id": "c1Wv07KyPjls",
        "colab_type": "code",
        "colab": {}
      },
      "source": [
        "df.count()"
      ],
      "execution_count": null,
      "outputs": []
    },
    {
      "cell_type": "code",
      "metadata": {
        "id": "wxccndVzPuXl",
        "colab_type": "code",
        "colab": {}
      },
      "source": [
        "#changing the datatype\n",
        "\n",
        "df = df.astype({'HP': 'int', 'Cylinders': 'int', 'Number of Doors': 'int'})"
      ],
      "execution_count": null,
      "outputs": []
    },
    {
      "cell_type": "code",
      "metadata": {
        "id": "--Oj_V9ZQLhm",
        "colab_type": "code",
        "colab": {}
      },
      "source": [
        "df.dtypes"
      ],
      "execution_count": null,
      "outputs": []
    },
    {
      "cell_type": "markdown",
      "metadata": {
        "id": "56IJrPUwQriM",
        "colab_type": "text"
      },
      "source": [
        "### 5. Detecting Outliers"
      ]
    },
    {
      "cell_type": "code",
      "metadata": {
        "id": "ZbZyMYCoRWZL",
        "colab_type": "code",
        "colab": {}
      },
      "source": [
        "#Plotting Graphs of Data(Columns)\n",
        "sns.boxplot(x=df['Price'])"
      ],
      "execution_count": null,
      "outputs": []
    },
    {
      "cell_type": "code",
      "metadata": {
        "id": "WTq69f8bQPtk",
        "colab_type": "code",
        "colab": {}
      },
      "source": [
        "sns.boxplot(x=df['HP'])"
      ],
      "execution_count": null,
      "outputs": []
    },
    {
      "cell_type": "code",
      "metadata": {
        "id": "nhUCJSmKRw8p",
        "colab_type": "code",
        "colab": {}
      },
      "source": [
        "sns.boxplot(x=df['Cylinders'])"
      ],
      "execution_count": null,
      "outputs": []
    },
    {
      "cell_type": "code",
      "metadata": {
        "id": "A55NnlUNSobf",
        "colab_type": "code",
        "colab": {}
      },
      "source": [
        "sns.boxplot(x=df['MPG-C'])"
      ],
      "execution_count": null,
      "outputs": []
    },
    {
      "cell_type": "code",
      "metadata": {
        "id": "tYX5BWRXSqez",
        "colab_type": "code",
        "colab": {}
      },
      "source": [
        "sns.boxplot(x=df['MPG-H'])"
      ],
      "execution_count": null,
      "outputs": []
    },
    {
      "cell_type": "code",
      "metadata": {
        "id": "QjchVndeSsZp",
        "colab_type": "code",
        "colab": {}
      },
      "source": [
        "sns.boxplot(x=df['Popularity'])"
      ],
      "execution_count": null,
      "outputs": []
    },
    {
      "cell_type": "code",
      "metadata": {
        "id": "FbPFDyGFSuOd",
        "colab_type": "code",
        "colab": {}
      },
      "source": [
        "#Finding IQR\n",
        "Q1 = df.quantile(0.25)\n",
        "Q3 = df.quantile(0.75)\n",
        "IQR = Q3 - Q1\n",
        "print(IQR)"
      ],
      "execution_count": null,
      "outputs": []
    },
    {
      "cell_type": "code",
      "metadata": {
        "id": "rcPj5GMoSwYY",
        "colab_type": "code",
        "colab": {}
      },
      "source": [
        "#Removing Outliners\n",
        "df = df[~((df < (Q1 - 1.5 * IQR)) |(df > (Q3 + 1.5 * IQR))).any(axis=1)]\n",
        "df.shape"
      ],
      "execution_count": null,
      "outputs": []
    },
    {
      "cell_type": "markdown",
      "metadata": {
        "id": "vIl6xAVAS_8J",
        "colab_type": "text"
      },
      "source": [
        "### 6. Most represented car brands"
      ]
    },
    {
      "cell_type": "code",
      "metadata": {
        "id": "Y-RhH0n1Sz1t",
        "colab_type": "code",
        "colab": {}
      },
      "source": [
        "# Percentage of car per brand\n",
        "counts = df['Make'].value_counts()*100/sum(df['Make'].value_counts())\n",
        "\n",
        "# Top 10 car brands\n",
        "popular_labels = counts.index[:10]\n",
        "    \n",
        "# Plot\n",
        "plt.figure(figsize=(10,5))\n",
        "plt.barh(popular_labels, width=counts[:10])\n",
        "plt.title('Top 10 Car brands')\n",
        "plt.show()"
      ],
      "execution_count": null,
      "outputs": []
    },
    {
      "cell_type": "markdown",
      "metadata": {
        "id": "QBNKRWYvTYO8",
        "colab_type": "text"
      },
      "source": [
        "##### 6.1 Average price of these car brands"
      ]
    },
    {
      "cell_type": "code",
      "metadata": {
        "id": "3F8PEuw-S4kH",
        "colab_type": "code",
        "colab": {}
      },
      "source": [
        "print('Average prices are: ')\n",
        "prices = df[['Make','Price']].loc[(df['Make'] == 'Chevrolet')|\n",
        "               (df['Make'] == 'Ford')|\n",
        "               (df['Make'] == 'Volkswagen')|\n",
        "               (df['Make'] == 'Toyota')|\n",
        "               (df['Make'] == 'Dodge')|\n",
        "               (df['Make'] == 'Nissan')|\n",
        "               (df['Make'] == 'GMC')|\n",
        "               (df['Make'] == 'Honda')|\n",
        "               (df['Make'] == 'Mazda')].groupby('Make').mean()\n",
        "print(prices)"
      ],
      "execution_count": null,
      "outputs": []
    },
    {
      "cell_type": "markdown",
      "metadata": {
        "id": "wfvrMGbxPMTF",
        "colab_type": "text"
      },
      "source": [
        "### 7. Correlation Matrix"
      ]
    },
    {
      "cell_type": "code",
      "metadata": {
        "id": "FG4vrRYWTkdH",
        "colab_type": "code",
        "colab": {}
      },
      "source": [
        "df.corr()"
      ],
      "execution_count": null,
      "outputs": []
    },
    {
      "cell_type": "markdown",
      "metadata": {
        "id": "uV0U4F_6PnlD",
        "colab_type": "text"
      },
      "source": [
        "##### High correlation between\n",
        "+ HP and Cylinders: The more cylinders there are, the more powerful the car is.\n",
        "+ HP and Price: The more powerful the car is, the more costly it is.\n",
        "+ MPG-H and MPG-C\n",
        "\n",
        "##### High anticorrelation between\n",
        "+ Cylinders and MPG-H: Highway mpg / Engine Cylinders have a strong negative correlation with highway and city MPG because lower MPG figures mean higher fuel consumption."
      ]
    },
    {
      "cell_type": "code",
      "metadata": {
        "id": "SfSRkRmGPVIy",
        "colab_type": "code",
        "colab": {}
      },
      "source": [
        "plt.figure(figsize=(12,10))\n",
        "cor = df.corr()\n",
        "sns.heatmap(cor, annot=True, cmap=plt.cm.Reds)\n",
        "plt.show()"
      ],
      "execution_count": null,
      "outputs": []
    },
    {
      "cell_type": "code",
      "metadata": {
        "id": "-xMARokxQuVs",
        "colab_type": "code",
        "colab": {}
      },
      "source": [
        "#Correlation with target variable\n",
        "cor_target = abs(cor[\"Price\"])\n",
        "#Selecting highly correlated features\n",
        "relevant_features = cor_target[cor_target>0.5]\n",
        "relevant_features"
      ],
      "execution_count": null,
      "outputs": []
    },
    {
      "cell_type": "markdown",
      "metadata": {
        "id": "VeZNTTCAQ92C",
        "colab_type": "text"
      },
      "source": [
        "### 8. EDA and Graph plots"
      ]
    },
    {
      "cell_type": "code",
      "metadata": {
        "id": "etu_xp6CQ2I4",
        "colab_type": "code",
        "colab": {}
      },
      "source": [
        "#Scatterplot between highly correlated features\n",
        "\n",
        "fig, ax = plt.subplots(figsize=(10,6))\n",
        "ax.scatter(df['HP'], df['Price'])\n",
        "ax.set_xlabel('HP')\n",
        "ax.set_ylabel('Price')\n",
        "plt.show()"
      ],
      "execution_count": null,
      "outputs": []
    },
    {
      "cell_type": "code",
      "metadata": {
        "id": "DfPLb-JhRT4Y",
        "colab_type": "code",
        "colab": {}
      },
      "source": [
        "#Scatterplot between highly correlated features\n",
        "\n",
        "fig, ax = plt.subplots(figsize=(10,6))\n",
        "ax.scatter(df['Year'], df['Price'])\n",
        "ax.set_xlabel('Year')\n",
        "ax.set_ylabel('Price')\n",
        "plt.show()"
      ],
      "execution_count": null,
      "outputs": []
    },
    {
      "cell_type": "code",
      "metadata": {
        "id": "1JCzmaMiRbWq",
        "colab_type": "code",
        "colab": {}
      },
      "source": [
        "#Scatterplot between highly correlated features\n",
        "\n",
        "fig, ax = plt.subplots(figsize=(10,6))\n",
        "ax.scatter(df['Cylinders'], df['HP'])\n",
        "ax.set_xlabel('Cylinders')\n",
        "ax.set_ylabel('HP')\n",
        "plt.show()"
      ],
      "execution_count": null,
      "outputs": []
    },
    {
      "cell_type": "code",
      "metadata": {
        "id": "rf0UTfdvyPg3",
        "colab_type": "code",
        "colab": {}
      },
      "source": [
        "#Bar plot for Vehicle Style vs frequency by which they are sold\n",
        "\n",
        "df['Vehicle Style'].value_counts().plot.bar(figsize=(10,6))                      # Bar chart for car 'body' variable\n",
        "plt.title(\"Vehicle style vs Frequency of vehicles sold\")\n",
        "plt.ylabel('Number of vehicles')\n",
        "plt.xlabel('Vehicle Style');"
      ],
      "execution_count": null,
      "outputs": []
    },
    {
      "cell_type": "code",
      "metadata": {
        "id": "kkMx0Xpi1R7X",
        "colab_type": "code",
        "colab": {}
      },
      "source": [
        "# Vehicle Style type and Vehicle Size analysis\n",
        "\n",
        "sns.countplot(y='Vehicle Style',data=df, hue='Vehicle Size')\n",
        "plt.title(\"Vehicle Type v/s Vehicle Size\")\n",
        "plt.ylabel('Vehicle Type')\n",
        "plt.xlabel('Count of vehicles')"
      ],
      "execution_count": null,
      "outputs": []
    },
    {
      "cell_type": "code",
      "metadata": {
        "id": "kksTanRjyQAf",
        "colab_type": "code",
        "colab": {}
      },
      "source": [
        "# Vehicle Style type and Drive type analysis\n",
        "\n",
        "sns.countplot(y='Vehicle Style',data=df, hue='Drive Mode')\n",
        "plt.title(\"Vehicle Type v/s Drive mode Type\")\n",
        "plt.ylabel('Vehicle Type')\n",
        "plt.xlabel('Count of vehicles')"
      ],
      "execution_count": null,
      "outputs": []
    },
    {
      "cell_type": "code",
      "metadata": {
        "id": "Z7_EZJOz5PTO",
        "colab_type": "code",
        "colab": {}
      },
      "source": [
        "# Create a new column 'Grouping through Price' and assign the value based on car price\n",
        "\n",
        "df['price_group'] = pd.cut(df['Price'],[0,20000,30000,40000,50000,60000,70000,80000,90000,100000,600000], \n",
        "                                labels = ['<20K','20-29K','30-39K','40-49K','50-59K','60-69K','70-79K','80-89K','90-999K','>100K'], include_lowest = True)\n",
        "df['price_group'] = df['price_group'].astype(object)"
      ],
      "execution_count": null,
      "outputs": []
    },
    {
      "cell_type": "code",
      "metadata": {
        "id": "JR8pa7xu5Pyo",
        "colab_type": "code",
        "colab": {}
      },
      "source": [
        "(df['price_group'].value_counts() / len(df) *100).plot.bar(figsize=(10,6))\n",
        "plt.title(\"Grouping through Price bar diagram\")\n",
        "plt.ylabel('Percentage of vehicles')\n",
        "plt.xlabel('Price Group');"
      ],
      "execution_count": null,
      "outputs": []
    },
    {
      "cell_type": "markdown",
      "metadata": {
        "id": "28ThdIIiTLuB",
        "colab_type": "text"
      },
      "source": [
        "##### With all the above graphs, EDA generated is\n",
        "+ Price of the car is dependent mostly on the engine house power and the car year.\n",
        "+ The car with more cylinders is more powerful.\n",
        "+ Car price increased after year 2000.\n",
        "+ Sedan cars were the most sold cars followed by 4dr SUV\n",
        "+ More the no the cylinders, more is the price.\n",
        "+ For MPG-H 13, price is maximum and for MPG-H 15, price is lowest.\n",
        "+ For MPG-C 10, price is maximum and for MPG-C 31, price is minimum."
      ]
    },
    {
      "cell_type": "markdown",
      "metadata": {
        "id": "9-6TPK_8UE_7",
        "colab_type": "text"
      },
      "source": [
        "### 9. Splitting of the dataset"
      ]
    },
    {
      "cell_type": "code",
      "metadata": {
        "id": "ubCm-HNDUv9S",
        "colab_type": "code",
        "colab": {}
      },
      "source": [
        "df = df.drop(['Make', 'Model'], axis=1)"
      ],
      "execution_count": null,
      "outputs": []
    },
    {
      "cell_type": "code",
      "metadata": {
        "id": "EgH6oz4_VZ_E",
        "colab_type": "code",
        "colab": {}
      },
      "source": [
        "# One-hot encode the data using pandas get_dummies\n",
        "\n",
        "df = pd.get_dummies(df)"
      ],
      "execution_count": null,
      "outputs": []
    },
    {
      "cell_type": "code",
      "metadata": {
        "id": "RWqyoMkaVmqa",
        "colab_type": "code",
        "colab": {}
      },
      "source": [
        "x = df.drop('Price', axis=1)\n",
        "y= df['Price']"
      ],
      "execution_count": null,
      "outputs": []
    },
    {
      "cell_type": "code",
      "metadata": {
        "id": "vFg8-EivVtJq",
        "colab_type": "code",
        "colab": {}
      },
      "source": [
        "# train and test split of the data into 80 and 20 ratio\n",
        "\n",
        "from sklearn.model_selection import train_test_split\n",
        "train_x, valid_x, train_y, valid_y = train_test_split(x, y, test_size = 0.2, random_state = 2)\n",
        "\n",
        "train_x.shape, valid_x.shape, train_y.shape, valid_y.shape"
      ],
      "execution_count": null,
      "outputs": []
    },
    {
      "cell_type": "markdown",
      "metadata": {
        "id": "giMu18BoecHp",
        "colab_type": "text"
      },
      "source": [
        "### 10. Performance check of different algorithms over metrics like R- Squared, RMSE, MSE, and MAE."
      ]
    },
    {
      "cell_type": "markdown",
      "metadata": {
        "id": "dx5Zqa8ogQCf",
        "colab_type": "text"
      },
      "source": [
        "##### 10.1 Linear Regression Model"
      ]
    },
    {
      "cell_type": "code",
      "metadata": {
        "id": "A0DaT-_lVy0-",
        "colab_type": "code",
        "colab": {}
      },
      "source": [
        "# Importing the necessary libraries\n",
        "\n",
        "from sklearn.linear_model import LinearRegression\n",
        "from sklearn.metrics import mean_squared_error,r2_score,mean_absolute_error"
      ],
      "execution_count": null,
      "outputs": []
    },
    {
      "cell_type": "code",
      "metadata": {
        "id": "U5bG8YOFV5vw",
        "colab_type": "code",
        "colab": {}
      },
      "source": [
        "# Fitting the model\n",
        "\n",
        "lreg = LinearRegression()\n",
        "lreg.fit(train_x, train_y)"
      ],
      "execution_count": null,
      "outputs": []
    },
    {
      "cell_type": "code",
      "metadata": {
        "id": "lHwhaz8QV7ip",
        "colab_type": "code",
        "colab": {}
      },
      "source": [
        "pred_train = lreg.predict(train_x)"
      ],
      "execution_count": null,
      "outputs": []
    },
    {
      "cell_type": "code",
      "metadata": {
        "id": "1JD9x2f1V9t1",
        "colab_type": "code",
        "colab": {}
      },
      "source": [
        "pred_test = lreg.predict(valid_x)"
      ],
      "execution_count": null,
      "outputs": []
    },
    {
      "cell_type": "code",
      "metadata": {
        "id": "-fTSZ3HkyCPO",
        "colab_type": "code",
        "colab": {}
      },
      "source": [
        "plt.scatter(valid_y,pred_test)"
      ],
      "execution_count": null,
      "outputs": []
    },
    {
      "cell_type": "code",
      "metadata": {
        "id": "NvfrWM9rx2DS",
        "colab_type": "code",
        "colab": {}
      },
      "source": [
        "sns.distplot((valid_y-pred_test),bins=50)"
      ],
      "execution_count": null,
      "outputs": []
    },
    {
      "cell_type": "markdown",
      "metadata": {
        "id": "gLnL6e-ujWk8",
        "colab_type": "text"
      },
      "source": [
        "##### Performance Check"
      ]
    },
    {
      "cell_type": "code",
      "metadata": {
        "id": "dIDBBeuKYv_0",
        "colab_type": "code",
        "colab": {}
      },
      "source": [
        "mse=mean_squared_error(valid_y,pred_test)\n",
        "rmse=np.sqrt(mean_squared_error(valid_y,pred_test))\n",
        "r2score=r2_score(valid_y,pred_test)\n",
        "mae=mean_absolute_error(valid_y,pred_test)"
      ],
      "execution_count": null,
      "outputs": []
    },
    {
      "cell_type": "code",
      "metadata": {
        "id": "gufoEtb2Y0Xj",
        "colab_type": "code",
        "colab": {}
      },
      "source": [
        "print('mse= ',mse)\n",
        "print('rmse= ',rmse)\n",
        "print('r2_score= ',r2score)\n",
        "print('mae= ',mae )"
      ],
      "execution_count": null,
      "outputs": []
    },
    {
      "cell_type": "markdown",
      "metadata": {
        "id": "fycPQ6MEgz9i",
        "colab_type": "text"
      },
      "source": [
        "+ This model performs good as its R- Squared Score is 0.9487 that is elucidation of 94.87%"
      ]
    },
    {
      "cell_type": "markdown",
      "metadata": {
        "id": "10VPJ-N_geFj",
        "colab_type": "text"
      },
      "source": [
        "##### 10.2 Decision Trees Regression"
      ]
    },
    {
      "cell_type": "code",
      "metadata": {
        "id": "XleYO_5sY9NW",
        "colab_type": "code",
        "colab": {}
      },
      "source": [
        "#import decision tree regressor\n",
        "from sklearn.tree import DecisionTreeRegressor"
      ],
      "execution_count": null,
      "outputs": []
    },
    {
      "cell_type": "code",
      "metadata": {
        "id": "_vgXcr8BZc8Y",
        "colab_type": "code",
        "colab": {}
      },
      "source": [
        "#creating the decision tree function\n",
        "dt_model = DecisionTreeRegressor(random_state=10, max_depth=12)"
      ],
      "execution_count": null,
      "outputs": []
    },
    {
      "cell_type": "code",
      "metadata": {
        "id": "ivWQMybrZgHv",
        "colab_type": "code",
        "colab": {}
      },
      "source": [
        "#fitting the model\n",
        "dt_model.fit(train_x, train_y)"
      ],
      "execution_count": null,
      "outputs": []
    },
    {
      "cell_type": "code",
      "metadata": {
        "id": "MmDnxE8QbUDm",
        "colab_type": "code",
        "colab": {}
      },
      "source": [
        "# Training Score\n",
        "\n",
        "dt_model.score(train_x, train_y)"
      ],
      "execution_count": null,
      "outputs": []
    },
    {
      "cell_type": "code",
      "metadata": {
        "id": "CdRRTv_7bWaM",
        "colab_type": "code",
        "colab": {}
      },
      "source": [
        "#checking the validation score\n",
        "\n",
        "dt_model.score(valid_x, valid_y)"
      ],
      "execution_count": null,
      "outputs": []
    },
    {
      "cell_type": "code",
      "metadata": {
        "id": "uZJbnUqHA98W",
        "colab_type": "code",
        "colab": {}
      },
      "source": [
        "pred_y=dt_model.predict(valid_x)"
      ],
      "execution_count": null,
      "outputs": []
    },
    {
      "cell_type": "code",
      "metadata": {
        "id": "qAVtI1rObZul",
        "colab_type": "code",
        "colab": {}
      },
      "source": [
        "plt.scatter(valid_y,pred_y)"
      ],
      "execution_count": null,
      "outputs": []
    },
    {
      "cell_type": "code",
      "metadata": {
        "id": "_8XMJiHxxu7q",
        "colab_type": "code",
        "colab": {}
      },
      "source": [
        "sns.distplot((valid_y-pred_y),bins=50)"
      ],
      "execution_count": null,
      "outputs": []
    },
    {
      "cell_type": "code",
      "metadata": {
        "id": "7U8aLLYabca6",
        "colab_type": "code",
        "colab": {}
      },
      "source": [
        "train_accuracy = []\n",
        "validation_accuracy = []\n",
        "for depth in range(1,20):\n",
        "    dt_model = DecisionTreeRegressor(max_depth=depth, random_state=10)\n",
        "    dt_model.fit(train_x, train_y)\n",
        "    train_accuracy.append(dt_model.score(train_x, train_y))\n",
        "    validation_accuracy.append(dt_model.score(valid_x, valid_y))"
      ],
      "execution_count": null,
      "outputs": []
    },
    {
      "cell_type": "code",
      "metadata": {
        "id": "F20GA7ZAbelk",
        "colab_type": "code",
        "colab": {}
      },
      "source": [
        "frame = pd.DataFrame({'max_depth':range(1,20), 'train_acc':train_accuracy, 'valid_acc':validation_accuracy})\n",
        "frame.head()"
      ],
      "execution_count": null,
      "outputs": []
    },
    {
      "cell_type": "code",
      "metadata": {
        "id": "UevO_v5nbgtA",
        "colab_type": "code",
        "colab": {}
      },
      "source": [
        "#Plotting graph for Depth of tree\n",
        "plt.figure(figsize=(12,6))\n",
        "plt.plot(frame['max_depth'], frame['train_acc'], marker='o', label='Train Accuracy')\n",
        "plt.plot(frame['max_depth'], frame['valid_acc'], marker='o', label='Test Accuracy')\n",
        "plt.xlabel('Depth of tree')\n",
        "plt.ylabel('performance')\n",
        "plt.legend(loc='upper left')"
      ],
      "execution_count": null,
      "outputs": []
    },
    {
      "cell_type": "markdown",
      "metadata": {
        "id": "2q3IVpkcjm7o",
        "colab_type": "text"
      },
      "source": [
        "##### Performance Check"
      ]
    },
    {
      "cell_type": "code",
      "metadata": {
        "id": "jpRWteWlbwLX",
        "colab_type": "code",
        "colab": {}
      },
      "source": [
        "mse=mean_squared_error(valid_y,pred_y)\n",
        "rmse=np.sqrt(mean_squared_error(valid_y,pred_y))\n",
        "r2score=r2_score(valid_y,pred_y)\n",
        "mae=mean_absolute_error(valid_y,pred_y)"
      ],
      "execution_count": null,
      "outputs": []
    },
    {
      "cell_type": "code",
      "metadata": {
        "id": "LloLqftbbx9R",
        "colab_type": "code",
        "colab": {}
      },
      "source": [
        "print('mse= ',mse)\n",
        "print('rmse= ',rmse)\n",
        "print('r2_score= ',r2score)\n",
        "print('mae= ',mae)"
      ],
      "execution_count": null,
      "outputs": []
    },
    {
      "cell_type": "markdown",
      "metadata": {
        "id": "nIU5kQ7LhLcn",
        "colab_type": "text"
      },
      "source": [
        "+ Decision tress model give the R- Squared Score of 0.9782, that is elucidation of 97.82%."
      ]
    },
    {
      "cell_type": "markdown",
      "metadata": {
        "id": "4NIvORWJgn2C",
        "colab_type": "text"
      },
      "source": [
        "##### 10.3 Random Forests Regression"
      ]
    },
    {
      "cell_type": "code",
      "metadata": {
        "id": "v4rXbV-Ab0PY",
        "colab_type": "code",
        "colab": {}
      },
      "source": [
        "# Fitting Random Forest Regression to the dataset \n",
        "# import the regressor \n",
        "from sklearn.ensemble import RandomForestRegressor \n",
        "  \n",
        " # create regressor object \n",
        "regressor = RandomForestRegressor(n_estimators = 50, random_state = 5, max_depth=25) \n",
        "  \n",
        "# fit the regressor with x and y data \n",
        "regressor.fit(valid_x, valid_y) "
      ],
      "execution_count": null,
      "outputs": []
    },
    {
      "cell_type": "code",
      "metadata": {
        "id": "b7sTlkAlb5BY",
        "colab_type": "code",
        "colab": {}
      },
      "source": [
        "y_pred=regressor.predict(valid_x)"
      ],
      "execution_count": null,
      "outputs": []
    },
    {
      "cell_type": "code",
      "metadata": {
        "id": "3uHXWPvft6bO",
        "colab_type": "code",
        "colab": {}
      },
      "source": [
        "# checking the training score\n",
        "\n",
        "dt_model.score(train_x, train_y)"
      ],
      "execution_count": null,
      "outputs": []
    },
    {
      "cell_type": "code",
      "metadata": {
        "id": "w8nhmNqvt0js",
        "colab_type": "code",
        "colab": {}
      },
      "source": [
        "# checking the validity score\n",
        "\n",
        "dt_model.score(valid_x, valid_y)"
      ],
      "execution_count": null,
      "outputs": []
    },
    {
      "cell_type": "code",
      "metadata": {
        "id": "IlkfHBwhxGZM",
        "colab_type": "code",
        "colab": {}
      },
      "source": [
        "plt.scatter(valid_y,y_pred)"
      ],
      "execution_count": null,
      "outputs": []
    },
    {
      "cell_type": "code",
      "metadata": {
        "id": "viGs3nQixPs1",
        "colab_type": "code",
        "colab": {}
      },
      "source": [
        "sns.distplot((valid_y-y_pred),bins=50)"
      ],
      "execution_count": null,
      "outputs": []
    },
    {
      "cell_type": "markdown",
      "metadata": {
        "id": "KN3pZ-OxjtKd",
        "colab_type": "text"
      },
      "source": [
        "##### Performance Check"
      ]
    },
    {
      "cell_type": "code",
      "metadata": {
        "id": "bvXvEGSjb6py",
        "colab_type": "code",
        "colab": {}
      },
      "source": [
        "mse=mean_squared_error(valid_y,y_pred)\n",
        "rmse=np.sqrt(mean_squared_error(valid_y,y_pred))\n",
        "r2score=r2_score(valid_y,y_pred)\n",
        "mae=mean_absolute_error(valid_y,y_pred)"
      ],
      "execution_count": null,
      "outputs": []
    },
    {
      "cell_type": "code",
      "metadata": {
        "id": "leAx9eUab9NH",
        "colab_type": "code",
        "colab": {}
      },
      "source": [
        "print('mse= ',mse)\n",
        "print('rmse= ',rmse)\n",
        "print('r2_score= ',r2score)\n",
        "print('mae= ',mae)"
      ],
      "execution_count": null,
      "outputs": []
    },
    {
      "cell_type": "markdown",
      "metadata": {
        "id": "OoUcLkeFhhnT",
        "colab_type": "text"
      },
      "source": [
        "+ This model give the R- Squared Score of 0.9953, elucidation of 99.53%."
      ]
    },
    {
      "cell_type": "markdown",
      "metadata": {
        "id": "5ezTXZlvnJxm",
        "colab_type": "text"
      },
      "source": [
        "## With the above comparisons, we find that:\n",
        "+ Random Forests Regression model is giving the best results with the R- Squared Score of 99.53% when converted to percentage.\n",
        "+ It is also giving the least RMSE value with 1037.41.\n",
        "\n",
        "\n",
        "+ Decision Trees Regression Model also gives good results with the R- Squared Score of 97.82%, when converted to percentage.\n",
        "\n",
        "\n",
        "+ Linear Regression model is showing the lowest R- Squared Score with 94.87%, when converted to percentage."
      ]
    }
  ]
}